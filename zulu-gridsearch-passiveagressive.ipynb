{
 "cells": [
  {
   "cell_type": "code",
   "execution_count": 130,
   "metadata": {
    "collapsed": false
   },
   "outputs": [],
   "source": [
    "import pandas as pd\n",
    "from sklearn.feature_extraction.text import CountVectorizer, TfidfVectorizer\n",
    "from sklearn import metrics\n",
    "from sklearn.model_selection import train_test_split, GridSearchCV\n",
    "from sklearn.externals import joblib\n",
    "from sklearn.linear_model import PassiveAggressiveClassifier, LogisticRegression\n",
    "from sklearn.pipeline import Pipeline\n",
    "from sklearn.svm import LinearSVC"
   ]
  },
  {
   "cell_type": "code",
   "execution_count": 260,
   "metadata": {
    "collapsed": true
   },
   "outputs": [],
   "source": [
    "# Data import\n",
    "rt = pd.read_csv('reviews_rt_all.csv', sep = '|')\n",
    "imdb = pd.read_csv('imdb_small.csv', sep = '|')"
   ]
  },
  {
   "cell_type": "code",
   "execution_count": 261,
   "metadata": {
    "collapsed": true
   },
   "outputs": [],
   "source": [
    "# Split RT and IMDB datasets seapretely\n",
    "X_train_rt, X_test_rt, y_train_rt, y_test_rt = train_test_split(rt.text, rt.label, test_size=0.2, random_state=42, stratify=rt.label)\n",
    "X_train_imdb, X_test_imdb, y_train_imdb, y_test_imdb = train_test_split(imdb.text, imdb.label, test_size=0.2, random_state=42, stratify=imdb.label)\n",
    "\n",
    "# Then concatenate\n",
    "X_train = pd.concat([X_train_rt, X_train_imdb])\n",
    "X_test = pd.concat([X_test_rt, X_test_imdb])\n",
    "y_train = pd.concat([y_train_rt, y_train_imdb])\n",
    "y_test = pd.concat([y_test_rt, y_test_imdb])"
   ]
  },
  {
   "cell_type": "code",
   "execution_count": 262,
   "metadata": {
    "collapsed": false
   },
   "outputs": [],
   "source": [
    "# Take the last 22 words from each review in the train set\n",
    "X_train = X_train.str.split().apply(lambda x:  ' '.join(x for x in x[-22:]))"
   ]
  },
  {
   "cell_type": "code",
   "execution_count": 263,
   "metadata": {
    "collapsed": true
   },
   "outputs": [],
   "source": [
    "# Stopwords\n",
    "STOPWORDS = ['by','does', 'was', 'were', 'the', 'of', 'end', 'and', 'is']    "
   ]
  },
  {
   "cell_type": "code",
   "execution_count": 109,
   "metadata": {
    "collapsed": false
   },
   "outputs": [],
   "source": [
    "vect = CountVectorizer(binary = True,ngram_range=(1,4),stop_words=STOPWORDS)\n",
    "clf = PassiveAggressiveClassifier(fit_intercept=False,\n",
    "                                  shuffle=False, n_iter = 91, n_jobs = -1)\n",
    "pipeline = Pipeline([('vect', vect),\n",
    "                ('clf', clf)])\n",
    "\n",
    "parameters = {\n",
    "#               'tfdf__stop_words': (STOPWORDS, None),\n",
    "#               'tfdf__binary': (True,False),\n",
    "#               'tfdf__max_df': (0.5, 0.75, 0,94),\n",
    "#               'tfdf__min_df': (1,2,3,4),\n",
    "#               'tfdf__max_features': (25000, 30000, 35000), \n",
    "               'clf__C': (0.001, 0.01, 0.1, 1, 10, 100)\n",
    "              }"
   ]
  },
  {
   "cell_type": "code",
   "execution_count": 110,
   "metadata": {
    "collapsed": false
   },
   "outputs": [
    {
     "name": "stdout",
     "output_type": "stream",
     "text": [
      "CPU times: user 46.1 s, sys: 4.33 s, total: 50.4 s\n",
      "Wall time: 11min 47s\n"
     ]
    }
   ],
   "source": [
    "%%time\n",
    "\n",
    "grid_search = GridSearchCV(pipeline, parameters, n_jobs=-1, error_score=1)\n",
    "grid_search = grid_search.fit(X_train, y_train)"
   ]
  },
  {
   "cell_type": "code",
   "execution_count": 111,
   "metadata": {
    "collapsed": false
   },
   "outputs": [
    {
     "name": "stdout",
     "output_type": "stream",
     "text": [
      "clf__C: 0.01\n"
     ]
    }
   ],
   "source": [
    "for param_name in sorted(parameters.keys()):\n",
    "    print(\"%s: %r\" % (param_name, grid_search.best_params_[param_name]))"
   ]
  },
  {
   "cell_type": "code",
   "execution_count": 112,
   "metadata": {
    "collapsed": false
   },
   "outputs": [
    {
     "name": "stdout",
     "output_type": "stream",
     "text": [
      "0 params - {'clf__C': 0.001}; mean - 0.7543; std - 0.0468\n",
      "1 params - {'clf__C': 0.01}; mean - 0.7547; std - 0.0389\n",
      "2 params - {'clf__C': 0.1}; mean - 0.7510; std - 0.0385\n",
      "3 params - {'clf__C': 1}; mean - 0.7439; std - 0.0403\n",
      "4 params - {'clf__C': 10}; mean - 0.7439; std - 0.0401\n",
      "5 params - {'clf__C': 100}; mean - 0.7439; std - 0.0401\n"
     ]
    }
   ],
   "source": [
    "n_candidates = len(grid_search.cv_results_['params'])\n",
    "\n",
    "for i in range(n_candidates):\n",
    "    print(i, 'params - %s; mean - %0.4f; std - %0.4f'\n",
    "                 % (grid_search.cv_results_['params'][i],\n",
    "                    grid_search.cv_results_['mean_test_score'][i],\n",
    "                    grid_search.cv_results_['std_test_score'][i]))"
   ]
  },
  {
   "cell_type": "code",
   "execution_count": 113,
   "metadata": {
    "collapsed": false,
    "scrolled": true
   },
   "outputs": [
    {
     "name": "stdout",
     "output_type": "stream",
     "text": [
      "Accuracy RT : 0.804551213332\n",
      "Accuracy IMDB : 0.8975\n",
      "Accuracy RT+IMDB : 0.835004259223\n",
      "CPU times: user 25.9 s, sys: 345 ms, total: 26.3 s\n",
      "Wall time: 26.4 s\n"
     ]
    }
   ],
   "source": [
    "%%time\n",
    "\n",
    "# Compare Validation Accuracy on RT, IMDB and mixed test sets\n",
    "y_pred_rt = grid_search.predict(X_test_rt)\n",
    "y_pred_imdb = grid_search.predict(X_test_imdb)\n",
    "y_pred = grid_search.predict(X_test)\n",
    "\n",
    "print (\"Accuracy RT :\", metrics.accuracy_score(y_test_rt, y_pred_rt))\n",
    "print (\"Accuracy IMDB :\", metrics.accuracy_score(y_test_imdb, y_pred_imdb))\n",
    "print (\"Accuracy RT+IMDB :\", metrics.accuracy_score(y_test, y_pred))"
   ]
  }
 ],
 "metadata": {
  "anaconda-cloud": {},
  "kernelspec": {
   "display_name": "Python [conda env:py35]",
   "language": "python",
   "name": "conda-env-py35-py"
  },
  "language_info": {
   "codemirror_mode": {
    "name": "ipython",
    "version": 3
   },
   "file_extension": ".py",
   "mimetype": "text/x-python",
   "name": "python",
   "nbconvert_exporter": "python",
   "pygments_lexer": "ipython3",
   "version": "3.5.2"
  }
 },
 "nbformat": 4,
 "nbformat_minor": 1
}
