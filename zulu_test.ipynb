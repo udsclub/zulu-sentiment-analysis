{
 "cells": [
  {
   "cell_type": "code",
   "execution_count": 1,
   "metadata": {
    "collapsed": true
   },
   "outputs": [],
   "source": [
    "import pandas as pd\n",
    "from sklearn.externals import joblib\n",
    "from sklearn import metrics"
   ]
  },
  {
   "cell_type": "code",
   "execution_count": 2,
   "metadata": {
    "collapsed": false
   },
   "outputs": [],
   "source": [
    "# https://www.dropbox.com/s/5vjngr2hry05yst/reviews_rt_all.csv?dl=0\n",
    "# https://www.dropbox.com/s/og7xh12uam4xts3/imdb_small.csv?dl=0\n",
    "rt = pd.read_csv('reviews_rt_all.csv', sep = '|')\n",
    "imdb = pd.read_csv('imdb_small.csv', sep = '|')\n",
    "\n",
    "data = pd.concat([rt, imdb])"
   ]
  },
  {
   "cell_type": "code",
   "execution_count": 3,
   "metadata": {
    "collapsed": false
   },
   "outputs": [],
   "source": [
    "# https://www.dropbox.com/s/6cmk9lzhg0uonzo/output.pkl?dl=0\n",
    "loaded_model = joblib.load('output.pkl')"
   ]
  },
  {
   "cell_type": "code",
   "execution_count": 4,
   "metadata": {
    "collapsed": false
   },
   "outputs": [
    {
     "name": "stdout",
     "output_type": "stream",
     "text": [
      "Accuracy: 0.952650547146\n"
     ]
    }
   ],
   "source": [
    "y_pred = loaded_model.predict(data.text)\n",
    "print (\"Accuracy:\", metrics.accuracy_score(data.label, y_pred))"
   ]
  },
  {
   "cell_type": "code",
   "execution_count": null,
   "metadata": {
    "collapsed": true
   },
   "outputs": [],
   "source": []
  }
 ],
 "metadata": {
  "kernelspec": {
   "display_name": "Python [conda env:py35]",
   "language": "python",
   "name": "conda-env-py35-py"
  },
  "language_info": {
   "codemirror_mode": {
    "name": "ipython",
    "version": 3
   },
   "file_extension": ".py",
   "mimetype": "text/x-python",
   "name": "python",
   "nbconvert_exporter": "python",
   "pygments_lexer": "ipython3",
   "version": "3.5.2"
  }
 },
 "nbformat": 4,
 "nbformat_minor": 1
}
