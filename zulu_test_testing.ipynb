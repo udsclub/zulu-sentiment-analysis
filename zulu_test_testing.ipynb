{
 "cells": [
  {
   "cell_type": "code",
   "execution_count": 13,
   "metadata": {
    "collapsed": true
   },
   "outputs": [],
   "source": [
    "import pandas as pd\n",
    "import numpy as np\n",
    "from sklearn.externals import joblib\n",
    "from sklearn import metrics"
   ]
  },
  {
   "cell_type": "code",
   "execution_count": 16,
   "metadata": {
    "collapsed": false
   },
   "outputs": [
    {
     "data": {
      "text/plain": [
       "88.234820785007543"
      ]
     },
     "execution_count": 16,
     "metadata": {},
     "output_type": "execute_result"
    }
   ],
   "source": [
    "rt = pd.read_csv('reviews_rt_all.csv', sep = '|')\n",
    "imdb = pd.read_csv('imdb_small.csv', sep = '|')\n",
    "\n",
    "data = pd.concat([rt, imdb])\n",
    "\n",
    "data[\"n_words\"] = data.text.map(lambda x: len(str(x).split(\" \")))\n",
    "data[\"n_words\"].mean()"
   ]
  },
  {
   "cell_type": "code",
   "execution_count": 17,
   "metadata": {
    "collapsed": false
   },
   "outputs": [
    {
     "data": {
      "text/plain": [
       "18.004632723936833"
      ]
     },
     "execution_count": 17,
     "metadata": {},
     "output_type": "execute_result"
    }
   ],
   "source": [
    "# Take the last 22 words from each review in the test set\n",
    "data_22 = data\n",
    "data_22.text = data_22.text.str.split().apply(lambda x:  ' '.join(x for x in x[-22:]))\n",
    "\n",
    "data_22[\"n_words\"] = data.text.map(lambda x: len(str(x).split(\" \")))\n",
    "data_22[\"n_words\"].mean()"
   ]
  },
  {
   "cell_type": "code",
   "execution_count": 11,
   "metadata": {
    "collapsed": false
   },
   "outputs": [],
   "source": [
    "loaded_model = joblib.load('output.pkl')"
   ]
  },
  {
   "cell_type": "code",
   "execution_count": 18,
   "metadata": {
    "collapsed": false
   },
   "outputs": [
    {
     "name": "stdout",
     "output_type": "stream",
     "text": [
      "Accuracy All words: 0.957938536138\n",
      "Accuracy 22 words: 0.957938536138\n"
     ]
    }
   ],
   "source": [
    "y_pred = loaded_model.predict(data.text)\n",
    "y_pred_22 = loaded_model.predict(data_22.text)\n",
    "\n",
    "print (\"Accuracy All words:\", metrics.accuracy_score(data.label, y_pred))\n",
    "print (\"Accuracy 22 words:\", metrics.accuracy_score(data_22.label, y_pred_22))"
   ]
  }
 ],
 "metadata": {
  "anaconda-cloud": {},
  "kernelspec": {
   "display_name": "Python [conda env:py35]",
   "language": "python",
   "name": "conda-env-py35-py"
  },
  "language_info": {
   "codemirror_mode": {
    "name": "ipython",
    "version": 3
   },
   "file_extension": ".py",
   "mimetype": "text/x-python",
   "name": "python",
   "nbconvert_exporter": "python",
   "pygments_lexer": "ipython3",
   "version": "3.5.2"
  }
 },
 "nbformat": 4,
 "nbformat_minor": 1
}
